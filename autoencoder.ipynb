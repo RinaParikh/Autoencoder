{
  "nbformat": 4,
  "nbformat_minor": 0,
  "metadata": {
    "colab": {
      "name": "autoencoder.ipynb",
      "provenance": [],
      "authorship_tag": "ABX9TyPdYXCDk1WifvPbUUVLCE/p",
      "include_colab_link": true
    },
    "kernelspec": {
      "name": "python3",
      "display_name": "Python 3"
    }
  },
  "cells": [
    {
      "cell_type": "markdown",
      "metadata": {
        "id": "view-in-github",
        "colab_type": "text"
      },
      "source": [
        "<a href=\"https://colab.research.google.com/github/RinaParikh/Autoencoder/blob/master/autoencoder.ipynb\" target=\"_parent\"><img src=\"https://colab.research.google.com/assets/colab-badge.svg\" alt=\"Open In Colab\"/></a>"
      ]
    },
    {
      "cell_type": "code",
      "metadata": {
        "id": "4nY6axjIBcFW",
        "colab_type": "code",
        "outputId": "b6696755-07f2-4374-ce30-d486a3cd1036",
        "colab": {
          "base_uri": "https://localhost:8080/",
          "height": 80
        }
      },
      "source": [
        "import numpy as np\n",
        "from keras.layers import Input, Dense, Conv2D, UpSampling2D\n",
        "from keras.layers import MaxPooling2D\n",
        "from keras.models import Model\n",
        "from keras.datasets import mnist"
      ],
      "execution_count": 0,
      "outputs": [
        {
          "output_type": "stream",
          "text": [
            "Using TensorFlow backend.\n"
          ],
          "name": "stderr"
        },
        {
          "output_type": "display_data",
          "data": {
            "text/html": [
              "<p style=\"color: red;\">\n",
              "The default version of TensorFlow in Colab will soon switch to TensorFlow 2.x.<br>\n",
              "We recommend you <a href=\"https://www.tensorflow.org/guide/migrate\" target=\"_blank\">upgrade</a> now \n",
              "or ensure your notebook will continue to use TensorFlow 1.x via the <code>%tensorflow_version 1.x</code> magic:\n",
              "<a href=\"https://colab.research.google.com/notebooks/tensorflow_version.ipynb\" target=\"_blank\">more info</a>.</p>\n"
            ],
            "text/plain": [
              "<IPython.core.display.HTML object>"
            ]
          },
          "metadata": {
            "tags": []
          }
        }
      ]
    },
    {
      "cell_type": "code",
      "metadata": {
        "id": "Zg5sDmXkO661",
        "colab_type": "code",
        "colab": {}
      },
      "source": [
        ""
      ],
      "execution_count": 0,
      "outputs": []
    },
    {
      "cell_type": "code",
      "metadata": {
        "id": "8W0o6O3OByHI",
        "colab_type": "code",
        "outputId": "29dce01f-081f-4a27-a7a1-72fa38150b64",
        "colab": {
          "base_uri": "https://localhost:8080/",
          "height": 105
        }
      },
      "source": [
        "input_img = Input(shape=(784,))\n",
        "input_img_conv = Input(shape=(28, 28, 1))\n",
        "encoding_dim = 32\n"
      ],
      "execution_count": 0,
      "outputs": [
        {
          "output_type": "stream",
          "text": [
            "WARNING:tensorflow:From /usr/local/lib/python3.6/dist-packages/keras/backend/tensorflow_backend.py:66: The name tf.get_default_graph is deprecated. Please use tf.compat.v1.get_default_graph instead.\n",
            "\n",
            "WARNING:tensorflow:From /usr/local/lib/python3.6/dist-packages/keras/backend/tensorflow_backend.py:541: The name tf.placeholder is deprecated. Please use tf.compat.v1.placeholder instead.\n",
            "\n"
          ],
          "name": "stdout"
        }
      ]
    },
    {
      "cell_type": "code",
      "metadata": {
        "id": "BJCitl-YCS0M",
        "colab_type": "code",
        "outputId": "7720973e-380b-449c-c472-ef6502c96c4a",
        "colab": {
          "base_uri": "https://localhost:8080/",
          "height": 51
        }
      },
      "source": [
        "(x_train, _), (x_test, _) = mnist.load_data()\n",
        "x_train = np.reshape(x_train,(60000,784))\n",
        "x_test= np.reshape(x_test,(10000,784))\n",
        "x_train = x_train.astype('float32') / 255.\n",
        "x_test = x_test.astype('float32') / 255."
      ],
      "execution_count": 0,
      "outputs": [
        {
          "output_type": "stream",
          "text": [
            "Downloading data from https://s3.amazonaws.com/img-datasets/mnist.npz\n",
            "11493376/11490434 [==============================] - 0s 0us/step\n"
          ],
          "name": "stdout"
        }
      ]
    },
    {
      "cell_type": "code",
      "metadata": {
        "id": "oxqbR_M7HxkL",
        "colab_type": "code",
        "outputId": "5f3b67db-80ec-4cf4-ca0e-7562d9d30bbe",
        "colab": {
          "base_uri": "https://localhost:8080/",
          "height": 1000
        }
      },
      "source": [
        "plt.imshow(x_train[4].reshape(28,28), cmap='Greys')\n",
        "plt.show()\n",
        "\n",
        "encoded = Dense(encoding_dim, activation='relu')(input_img)\n",
        "#print(encoded)\n",
        "#plt.imshow(encoded.reshape(-1,28,28,1))\n",
        "#plt.show()\n",
        "decoded = Dense(784, activation='sigmoid')(encoded)\n",
        "img = decoded.reshape(-1,28,28,1)\n",
        "plt.imshow(img)\n",
        "plt.show()"
      ],
      "execution_count": 0,
      "outputs": [
        {
          "output_type": "display_data",
          "data": {
            "image/png": "[encoded data removed]",
            "text/plain": [
              "<Figure size 432x288 with 1 Axes>"
            ]
          },
          "metadata": {
            "tags": []
          }
        },
        {
          "output_type": "error",
          "ename": "ValueError",
          "evalue": "ignored",
          "traceback": [
            "\u001b[0;31m---------------------------------------------------------------------------\u001b[0m",
            "\u001b[0;31mValueError\u001b[0m                                Traceback (most recent call last)",
            "\u001b[0;32m/usr/local/lib/python3.6/dist-packages/keras/engine/base_layer.py\u001b[0m in \u001b[0;36massert_input_compatibility\u001b[0;34m(self, inputs)\u001b[0m\n\u001b[1;32m    272\u001b[0m             \u001b[0;32mtry\u001b[0m\u001b[0;34m:\u001b[0m\u001b[0;34m\u001b[0m\u001b[0;34m\u001b[0m\u001b[0m\n\u001b[0;32m--> 273\u001b[0;31m                 \u001b[0mK\u001b[0m\u001b[0;34m.\u001b[0m\u001b[0mis_keras_tensor\u001b[0m\u001b[0;34m(\u001b[0m\u001b[0mx\u001b[0m\u001b[0;34m)\u001b[0m\u001b[0;34m\u001b[0m\u001b[0;34m\u001b[0m\u001b[0m\n\u001b[0m\u001b[1;32m    274\u001b[0m             \u001b[0;32mexcept\u001b[0m \u001b[0mValueError\u001b[0m\u001b[0;34m:\u001b[0m\u001b[0;34m\u001b[0m\u001b[0;34m\u001b[0m\u001b[0m\n",
            "\u001b[0;32m/usr/local/lib/python3.6/dist-packages/keras/backend/tensorflow_backend.py\u001b[0m in \u001b[0;36mis_keras_tensor\u001b[0;34m(x)\u001b[0m\n\u001b[1;32m    497\u001b[0m         raise ValueError('Unexpectedly found an instance of type `' +\n\u001b[0;32m--> 498\u001b[0;31m                          \u001b[0mstr\u001b[0m\u001b[0;34m(\u001b[0m\u001b[0mtype\u001b[0m\u001b[0;34m(\u001b[0m\u001b[0mx\u001b[0m\u001b[0;34m)\u001b[0m\u001b[0;34m)\u001b[0m \u001b[0;34m+\u001b[0m \u001b[0;34m'`. '\u001b[0m\u001b[0;34m\u001b[0m\u001b[0;34m\u001b[0m\u001b[0m\n\u001b[0m\u001b[1;32m    499\u001b[0m                          'Expected a symbolic tensor instance.')\n",
            "\u001b[0;31mValueError\u001b[0m: Unexpectedly found an instance of type `<class 'numpy.ndarray'>`. Expected a symbolic tensor instance.",
            "\nDuring handling of the above exception, another exception occurred:\n",
            "\u001b[0;31mValueError\u001b[0m                                Traceback (most recent call last)",
            "\u001b[0;32m<ipython-input-47-4daf2c61dd38>\u001b[0m in \u001b[0;36m<module>\u001b[0;34m()\u001b[0m\n\u001b[1;32m      2\u001b[0m \u001b[0mplt\u001b[0m\u001b[0;34m.\u001b[0m\u001b[0mshow\u001b[0m\u001b[0;34m(\u001b[0m\u001b[0;34m)\u001b[0m\u001b[0;34m\u001b[0m\u001b[0;34m\u001b[0m\u001b[0m\n\u001b[1;32m      3\u001b[0m \u001b[0minput_img\u001b[0m \u001b[0;34m=\u001b[0m \u001b[0mx_train\u001b[0m\u001b[0;34m[\u001b[0m\u001b[0;36m4\u001b[0m\u001b[0;34m]\u001b[0m\u001b[0;34m.\u001b[0m\u001b[0mreshape\u001b[0m\u001b[0;34m(\u001b[0m\u001b[0;36m784\u001b[0m\u001b[0;34m,\u001b[0m\u001b[0;34m-\u001b[0m\u001b[0;36m1\u001b[0m\u001b[0;34m)\u001b[0m\u001b[0;34m\u001b[0m\u001b[0;34m\u001b[0m\u001b[0m\n\u001b[0;32m----> 4\u001b[0;31m \u001b[0mencoded\u001b[0m \u001b[0;34m=\u001b[0m \u001b[0mDense\u001b[0m\u001b[0;34m(\u001b[0m\u001b[0mencoding_dim\u001b[0m\u001b[0;34m,\u001b[0m \u001b[0mactivation\u001b[0m\u001b[0;34m=\u001b[0m\u001b[0;34m'relu'\u001b[0m\u001b[0;34m)\u001b[0m\u001b[0;34m(\u001b[0m\u001b[0minput_img\u001b[0m\u001b[0;34m)\u001b[0m\u001b[0;34m\u001b[0m\u001b[0;34m\u001b[0m\u001b[0m\n\u001b[0m\u001b[1;32m      5\u001b[0m \u001b[0;31m#print(encoded)\u001b[0m\u001b[0;34m\u001b[0m\u001b[0;34m\u001b[0m\u001b[0;34m\u001b[0m\u001b[0m\n\u001b[1;32m      6\u001b[0m \u001b[0;31m#plt.imshow(encoded.reshape(-1,28,28,1))\u001b[0m\u001b[0;34m\u001b[0m\u001b[0;34m\u001b[0m\u001b[0;34m\u001b[0m\u001b[0m\n",
            "\u001b[0;32m/usr/local/lib/python3.6/dist-packages/keras/engine/base_layer.py\u001b[0m in \u001b[0;36m__call__\u001b[0;34m(self, inputs, **kwargs)\u001b[0m\n\u001b[1;32m    406\u001b[0m                 \u001b[0;31m# Raise exceptions in case the input is not compatible\u001b[0m\u001b[0;34m\u001b[0m\u001b[0;34m\u001b[0m\u001b[0;34m\u001b[0m\u001b[0m\n\u001b[1;32m    407\u001b[0m                 \u001b[0;31m# with the input_spec specified in the layer constructor.\u001b[0m\u001b[0;34m\u001b[0m\u001b[0;34m\u001b[0m\u001b[0;34m\u001b[0m\u001b[0m\n\u001b[0;32m--> 408\u001b[0;31m                 \u001b[0mself\u001b[0m\u001b[0;34m.\u001b[0m\u001b[0massert_input_compatibility\u001b[0m\u001b[0;34m(\u001b[0m\u001b[0minputs\u001b[0m\u001b[0;34m)\u001b[0m\u001b[0;34m\u001b[0m\u001b[0;34m\u001b[0m\u001b[0m\n\u001b[0m\u001b[1;32m    409\u001b[0m \u001b[0;34m\u001b[0m\u001b[0m\n\u001b[1;32m    410\u001b[0m                 \u001b[0;31m# Collect input shapes to build layer.\u001b[0m\u001b[0;34m\u001b[0m\u001b[0;34m\u001b[0m\u001b[0;34m\u001b[0m\u001b[0m\n",
            "\u001b[0;32m/usr/local/lib/python3.6/dist-packages/keras/engine/base_layer.py\u001b[0m in \u001b[0;36massert_input_compatibility\u001b[0;34m(self, inputs)\u001b[0m\n\u001b[1;32m    277\u001b[0m                                  \u001b[0;34m'Received type: '\u001b[0m \u001b[0;34m+\u001b[0m\u001b[0;34m\u001b[0m\u001b[0;34m\u001b[0m\u001b[0m\n\u001b[1;32m    278\u001b[0m                                  \u001b[0mstr\u001b[0m\u001b[0;34m(\u001b[0m\u001b[0mtype\u001b[0m\u001b[0;34m(\u001b[0m\u001b[0mx\u001b[0m\u001b[0;34m)\u001b[0m\u001b[0;34m)\u001b[0m \u001b[0;34m+\u001b[0m \u001b[0;34m'. Full input: '\u001b[0m \u001b[0;34m+\u001b[0m\u001b[0;34m\u001b[0m\u001b[0;34m\u001b[0m\u001b[0m\n\u001b[0;32m--> 279\u001b[0;31m                                  \u001b[0mstr\u001b[0m\u001b[0;34m(\u001b[0m\u001b[0minputs\u001b[0m\u001b[0;34m)\u001b[0m \u001b[0;34m+\u001b[0m \u001b[0;34m'. All inputs to the layer '\u001b[0m\u001b[0;34m\u001b[0m\u001b[0;34m\u001b[0m\u001b[0m\n\u001b[0m\u001b[1;32m    280\u001b[0m                                  'should be tensors.')\n\u001b[1;32m    281\u001b[0m \u001b[0;34m\u001b[0m\u001b[0m\n",
            "\u001b[0;31mValueError\u001b[0m: Layer dense_14 was called with an input that isn't a symbolic tensor. Received type: <class 'numpy.ndarray'>. Full input: [array([[0.        ],\n       [0.        ],\n       [0.        ],\n       [0.        ],\n       [0.        ],\n       [0.        ],\n       [0.        ],\n       [0.        ],\n       [0.        ],\n       [0.        ],\n       [0.        ],\n       [0.        ],\n       [0.        ],\n       [0.        ],\n       [0.        ],\n       [0.        ],\n       [0.        ],\n       [0.        ],\n       [0.        ],\n       [0.        ],\n       [0.        ],\n       [0.        ],\n       [0.        ],\n       [0.        ],\n       [0.        ],\n       [0.        ],\n       [0.        ],\n       [0.        ],\n       [0.        ],\n       [0.        ],\n       [0.        ],\n       [0.        ],\n       [0.        ],\n       [0.        ],\n       [0.        ],\n       [0.        ],\n       [0.        ],\n       [0.        ],\n       [0.        ],\n       [0.        ],\n       [0.        ],\n       [0.        ],\n       [0.        ],\n       [0.        ],\n       [0.        ],\n       [0.        ],\n       [0.        ],\n       [0.        ],\n       [0.        ],\n       [0.        ],\n       [0.        ],\n       [0.        ],\n       [0.        ],\n       [0.        ],\n       [0.        ],\n       [0.        ],\n       [0.        ],\n       [0.        ],\n       [0.        ],\n       [0.        ],\n       [0.        ],\n       [0.        ],\n       [0.        ],\n       [0.        ],\n       [0.        ],\n       [0.        ],\n       [0.        ],\n       [0.        ],\n       [0.        ],\n       [0.        ],\n       [0.        ],\n       [0.        ],\n       [0.        ],\n       [0.        ],\n       [0.        ],\n       [0.        ],\n       [0.        ],\n       [0.        ],\n       [0.        ],\n       [0.        ],\n       [0.        ],\n       [0.        ],\n       [0.        ],\n       [0.        ],\n       [0.        ],\n       [0.        ],\n       [0.        ],\n       [0.        ],\n       [0.        ],\n       [0.        ],\n       [0.        ],\n       [0.        ],\n       [0.        ],\n       [0.        ],\n       [0.        ],\n       [0.        ],\n       [0.        ],\n       [0.        ],\n       [0.        ],\n       [0.        ],\n       [0.        ],\n       [0.        ],\n       [0.        ],\n       [0.        ],\n       [0.        ],\n       [0.        ],\n       [0.        ],\n       [0.        ],\n       [0.        ],\n       [0.        ],\n       [0.        ],\n       [0.        ],\n       [0.        ],\n       [0.        ],\n       [0.        ],\n       [0.        ],\n       [0.        ],\n       [0.        ],\n       [0.        ],\n       [0.        ],\n       [0.        ],\n       [0.        ],\n       [0.        ],\n       [0.        ],\n       [0.        ],\n       [0.        ],\n       [0.        ],\n       [0.        ],\n       [0.        ],\n       [0.        ],\n       [0.        ],\n       [0.        ],\n       [0.        ],\n       [0.        ],\n       [0.        ],\n       [0.        ],\n       [0.        ],\n       [0.        ],\n       [0.        ],\n       [0.        ],\n       [0.        ],\n       [0.        ],\n       [0.        ],\n       [0.        ],\n       [0.        ],\n       [0.        ],\n       [0.        ],\n       [0.        ],\n       [0.        ],\n       [0.        ],\n       [0.        ],\n       [0.        ],\n       [0.        ],\n       [0.        ],\n       [0.        ],\n       [0.        ],\n       [0.        ],\n       [0.        ],\n       [0.        ],\n       [0.        ],\n       [0.        ],\n       [0.        ],\n       [0.        ],\n       [0.        ],\n       [0.        ],\n       [0.        ],\n       [0.        ],\n       [0.        ],\n       [0.        ],\n       [0.        ],\n       [0.        ],\n       [0.        ],\n       [0.        ],\n       [0.        ],\n       [0.        ],\n       [0.        ],\n       [0.        ],\n       [0.        ],\n       [0.        ],\n       [0.        ],\n       [0.        ],\n       [0.        ],\n       [0.        ],\n       [0.        ],\n       [0.        ],\n       [0.        ],\n       [0.        ],\n       [0.        ],\n       [0.        ],\n       [0.        ],\n       [0.        ],\n       [0.        ],\n       [0.        ],\n       [0.        ],\n       [0.        ],\n       [0.        ],\n       [0.        ],\n       [0.        ],\n       [0.        ],\n       [0.        ],\n       [0.        ],\n       [0.        ],\n       [0.        ],\n       [0.        ],\n       [0.        ],\n       [0.        ],\n       [0.        ],\n       [0.        ],\n       [0.21568628],\n       [0.5803922 ],\n       [0.8235294 ],\n       [0.99215686],\n       [0.99215686],\n       [0.44313726],\n       [0.34117648],\n       [0.5803922 ],\n       [0.21568628],\n       [0.        ],\n       [0.        ],\n       [0.        ],\n       [0.        ],\n       [0.        ],\n       [0.        ],\n       [0.        ],\n       [0.        ],\n       [0.        ],\n       [0.        ],\n       [0.        ],\n       [0.        ],\n       [0.        ],\n       [0.        ],\n       [0.        ],\n       [0.        ],\n       [0.        ],\n       [0.        ],\n       [0.34117648],\n       [0.9098039 ],\n       [0.9882353 ],\n       [0.99215686],\n       [0.7411765 ],\n       [0.8235294 ],\n       [0.9882353 ],\n       [0.9882353 ],\n       [0.99215686],\n       [0.65882355],\n       [0.        ],\n       [0.        ],\n       [0.        ],\n       [0.        ],\n       [0.        ],\n       [0.        ],\n       [0.        ],\n       [0.        ],\n       [0.        ],\n       [0.        ],\n       [0.        ],\n       [0.        ],\n       [0.        ],\n       [0.        ],\n       [0.        ],\n       [0.        ],\n       [0.01568628],\n       [0.22352941],\n       [0.9490196 ],\n       [0.9882353 ],\n       [0.74509805],\n       [0.25490198],\n       [0.01960784],\n       [0.04705882],\n       [0.7137255 ],\n       [0.9882353 ],\n       [0.99215686],\n       [0.45490196],\n       [0.        ],\n       [0.        ],\n       [0.        ],\n       [0.        ],\n       [0.        ],\n       [0.        ],\n       [0.        ],\n       [0.        ],\n       [0.        ],\n       [0.        ],\n       [0.        ],\n       [0.        ],\n       [0.        ],\n       [0.        ],\n       [0.        ],\n       [0.        ],\n       [0.3764706 ],\n       [0.9882353 ],\n       [0.9882353 ],\n       [0.7176471 ],\n       [0.05490196],\n       [0.        ],\n       [0.        ],\n       [0.36078432],\n       [0.9882353 ],\n       [0.9882353 ],\n       [0.88235295],\n       [0.08235294],\n       [0.        ],\n       [0.        ],\n       [0.        ],\n       [0.        ],\n       [0.        ],\n       [0.        ],\n       [0.        ],\n       [0.        ],\n       [0.        ],\n       [0.        ],\n       [0.        ],\n       [0.        ],\n       [0.        ],\n       [0.        ],\n       [0.        ],\n       [0.5176471 ],\n       [0.99215686],\n       [0.9882353 ],\n       [0.57254905],\n       [0.05490196],\n       [0.        ],\n       [0.        ],\n       [0.        ],\n       [0.84313726],\n       [0.9882353 ],\n       [0.9882353 ],\n       [0.30980393],\n       [0.        ],\n       [0.        ],\n       [0.        ],\n       [0.        ],\n       [0.        ],\n       [0.        ],\n       [0.        ],\n       [0.        ],\n       [0.        ],\n       [0.        ],\n       [0.        ],\n       [0.        ],\n       [0.        ],\n       [0.        ],\n       [0.        ],\n       [0.49411765],\n       [0.99215686],\n       [0.96862745],\n       [0.6901961 ],\n       [0.03529412],\n       [0.        ],\n       [0.        ],\n       [0.03137255],\n       [0.30588236],\n       [0.9607843 ],\n       [0.99215686],\n       [0.5058824 ],\n       [0.        ],\n       [0.        ],\n       [0.        ],\n       [0.        ],\n       [0.        ],\n       [0.        ],\n       [0.        ],\n       [0.        ],\n       [0.        ],\n       [0.        ],\n       [0.        ],\n       [0.        ],\n       [0.        ],\n       [0.        ],\n       [0.        ],\n       [0.0627451 ],\n       [0.9098039 ],\n       [0.9882353 ],\n       [0.6901961 ],\n       [0.        ],\n       [0.        ],\n       [0.        ],\n       [0.14117648],\n       [0.7882353 ],\n       [0.9882353 ],\n       [0.9882353 ],\n       [0.6627451 ],\n       [0.04313726],\n       [0.        ],\n       [0.        ],\n       [0.        ],\n       [0.        ],\n       [0.        ],\n       [0.        ],\n       [0.        ],\n       [0.        ],\n       [0.        ],\n       [0.        ],\n       [0.        ],\n       [0.        ],\n       [0.        ],\n       [0.        ],\n       [0.        ],\n       [0.08627451],\n       [0.9882353 ],\n       [0.9882353 ],\n       [0.11764706],\n       [0.08627451],\n       [0.46666667],\n       [0.77254903],\n       [0.94509804],\n       [0.99215686],\n       [0.9882353 ],\n       [0.9843137 ],\n       [0.3019608 ],\n       [0.        ],\n       [0.        ],\n       [0.        ],\n       [0.        ],\n       [0.        ],\n       [0.        ],\n       [0.        ],\n       [0.        ],\n       [0.        ],\n       [0.        ],\n       [0.        ],\n       [0.        ],\n       [0.        ],\n       [0.        ],\n       [0.        ],\n       [0.        ],\n       [0.0627451 ],\n       [0.90588236],\n       [0.9882353 ],\n       [0.99215686],\n       [0.9882353 ],\n       [0.9882353 ],\n       [0.9882353 ],\n       [0.8862745 ],\n       [0.8901961 ],\n       [0.9882353 ],\n       [0.90588236],\n       [0.        ],\n       [0.        ],\n       [0.        ],\n       [0.        ],\n       [0.        ],\n       [0.        ],\n       [0.        ],\n       [0.        ],\n       [0.        ],\n       [0.        ],\n       [0.        ],\n       [0.        ],\n       [0.        ],\n       [0.        ],\n       [0.        ],\n       [0.        ],\n       [0.        ],\n       [0.        ],\n       [0.21568628],\n       [0.92156863],\n       [0.99215686],\n       [0.8509804 ],\n       [0.5411765 ],\n       [0.16470589],\n       [0.09411765],\n       [0.7529412 ],\n       [0.9882353 ],\n       [0.56078434],\n       [0.        ],\n       [0.        ],\n       [0.        ],\n       [0.        ],\n       [0.        ],\n       [0.        ],\n       [0.        ],\n       [0.        ],\n       [0.        ],\n       [0.        ],\n       [0.        ],\n       [0.        ],\n       [0.        ],\n       [0.        ],\n       [0.        ],\n       [0.        ],\n       [0.        ],\n       [0.        ],\n       [0.        ],\n       [0.        ],\n       [0.        ],\n       [0.        ],\n       [0.        ],\n       [0.        ],\n       [0.24313726],\n       [1.        ],\n       [0.99215686],\n       [0.42745098],\n       [0.        ],\n       [0.        ],\n       [0.        ],\n       [0.        ],\n       [0.        ],\n       [0.        ],\n       [0.        ],\n       [0.        ],\n       [0.        ],\n       [0.        ],\n       [0.        ],\n       [0.        ],\n       [0.        ],\n       [0.        ],\n       [0.        ],\n       [0.        ],\n       [0.        ],\n       [0.        ],\n       [0.        ],\n       [0.        ],\n       [0.        ],\n       [0.        ],\n       [0.        ],\n       [0.        ],\n       [0.2784314 ],\n       [0.99215686],\n       [0.9882353 ],\n       [0.08235294],\n       [0.        ],\n       [0.        ],\n       [0.        ],\n       [0.        ],\n       [0.        ],\n       [0.        ],\n       [0.        ],\n       [0.        ],\n       [0.        ],\n       [0.        ],\n       [0.        ],\n       [0.        ],\n       [0.        ],\n       [0.        ],\n       [0.        ],\n       [0.        ],\n       [0.        ],\n       [0.        ],\n       [0.        ],\n       [0.        ],\n       [0.        ],\n       [0.        ],\n       [0.        ],\n       [0.        ],\n       [0.        ],\n       [0.99215686],\n       [0.9882353 ],\n       [0.08235294],\n       [0.        ],\n       [0.        ],\n       [0.        ],\n       [0.        ],\n       [0.        ],\n       [0.        ],\n       [0.        ],\n       [0.        ],\n       [0.        ],\n       [0.        ],\n       [0.        ],\n       [0.        ],\n       [0.        ],\n       [0.        ],\n       [0.        ],\n       [0.        ],\n       [0.        ],\n       [0.        ],\n       [0.        ],\n       [0.        ],\n       [0.        ],\n       [0.        ],\n       [0.        ],\n       [0.        ],\n       [0.2784314 ],\n       [0.99215686],\n       [0.9882353 ],\n       [0.08235294],\n       [0.        ],\n       [0.        ],\n       [0.        ],\n       [0.        ],\n       [0.        ],\n       [0.        ],\n       [0.        ],\n       [0.        ],\n       [0.        ],\n       [0.        ],\n       [0.        ],\n       [0.        ],\n       [0.        ],\n       [0.        ],\n       [0.        ],\n       [0.        ],\n       [0.        ],\n       [0.        ],\n       [0.        ],\n       [0.        ],\n       [0.        ],\n       [0.        ],\n       [0.        ],\n       [0.        ],\n       [0.41568628],\n       [0.99215686],\n       [0.9882353 ],\n       [0.08235294],\n       [0.        ],\n       [0.        ],\n       [0.        ],\n       [0.        ],\n       [0.        ],\n       [0.        ],\n       [0.        ],\n       [0.        ],\n       [0.        ],\n       [0.        ],\n       [0.        ],\n       [0.        ],\n       [0.        ],\n       [0.        ],\n       [0.        ],\n       [0.        ],\n       [0.        ],\n       [0.        ],\n       [0.        ],\n       [0.        ],\n       [0.        ],\n       [0.        ],\n       [0.        ],\n       [0.        ],\n       [0.1764706 ],\n       [1.        ],\n       [0.99215686],\n       [0.08235294],\n       [0.        ],\n       [0.        ],\n       [0.        ],\n       [0.        ],\n       [0.        ],\n       [0.        ],\n       [0.        ],\n       [0.        ],\n       [0.        ],\n       [0.        ],\n       [0.        ],\n       [0.        ],\n       [0.        ],\n       [0.        ],\n       [0.        ],\n       [0.        ],\n       [0.        ],\n       [0.        ],\n       [0.        ],\n       [0.        ],\n       [0.        ],\n       [0.        ],\n       [0.        ],\n       [0.        ],\n       [0.        ],\n       [0.85490197],\n       [0.9882353 ],\n       [0.21960784],\n       [0.        ],\n       [0.        ],\n       [0.        ],\n       [0.        ],\n       [0.        ],\n       [0.        ],\n       [0.        ],\n       [0.        ],\n       [0.        ],\n       [0.        ],\n       [0.        ],\n       [0.        ],\n       [0.        ],\n       [0.        ],\n       [0.        ],\n       [0.        ],\n       [0.        ],\n       [0.        ],\n       [0.        ],\n       [0.        ],\n       [0.        ],\n       [0.        ],\n       [0.        ],\n       [0.        ],\n       [0.        ],\n       [0.3764706 ],\n       [0.9882353 ],\n       [0.7411765 ],\n       [0.16470589],\n       [0.        ],\n       [0.        ],\n       [0.        ],\n       [0.        ],\n       [0.        ],\n       [0.        ],\n       [0.        ],\n       [0.        ],\n       [0.        ],\n       [0.        ],\n       [0.        ],\n       [0.        ],\n       [0.        ],\n       [0.        ],\n       [0.        ],\n       [0.        ],\n       [0.        ],\n       [0.        ],\n       [0.        ],\n       [0.        ],\n       [0.        ],\n       [0.        ],\n       [0.        ],\n       [0.        ],\n       [0.05490196],\n       [0.72156864],\n       [0.9882353 ],\n       [0.6666667 ],\n       [0.04313726],\n       [0.        ],\n       [0.        ],\n       [0.        ],\n       [0.        ],\n       [0.        ],\n       [0.        ],\n       [0.        ],\n       [0.        ],\n       [0.        ],\n       [0.        ],\n       [0.        ],\n       [0.        ],\n       [0.        ],\n       [0.        ],\n       [0.        ],\n       [0.        ],\n       [0.        ],\n       [0.        ],\n       [0.        ],\n       [0.        ],\n       [0.        ],\n       [0.        ],\n       [0.        ],\n       [0.        ],\n       [0.05490196],\n       [0.5764706 ],\n       [0.9882353 ],\n       [0.16470589],\n       [0.        ],\n       [0.        ],\n       [0.        ],\n       [0.        ],\n       [0.        ],\n       [0.        ],\n       [0.        ],\n       [0.        ],\n       [0.        ],\n       [0.        ],\n       [0.        ],\n       [0.        ],\n       [0.        ],\n       [0.        ],\n       [0.        ],\n       [0.        ],\n       [0.        ],\n       [0.        ],\n       [0.        ],\n       [0.        ],\n       [0.        ],\n       [0.        ],\n       [0.        ],\n       [0.        ],\n       [0.        ],\n       [0.        ],\n       [0.        ],\n       [0.        ],\n       [0.        ],\n       [0.        ],\n       [0.        ],\n       [0.        ],\n       [0.        ],\n       [0.        ],\n       [0.        ],\n       [0.        ],\n       [0.        ]], dtype=float32)]. All inputs to the layer should be tensors."
          ]
        }
      ]
    },
    {
      "cell_type": "code",
      "metadata": {
        "id": "SAIpmo6xCioP",
        "colab_type": "code",
        "outputId": "8f802961-d321-4efb-d4df-556243c28b1f",
        "colab": {
          "base_uri": "https://localhost:8080/",
          "height": 221
        }
      },
      "source": [
        "input_img = x_train[4]\n",
        "autoencoder = Model(input_img, decoded)\n",
        "autoencoder.compile(optimizer='adam', loss='binary_crossentropy')\n",
        "autoencoder.fit(x_train,x_train,epochs=5,batch_size=128,shuffle=True,validation_data=(x_test,x_test))"
      ],
      "execution_count": 0,
      "outputs": [
        {
          "output_type": "stream",
          "text": [
            "Train on 60000 samples, validate on 10000 samples\n",
            "Epoch 1/5\n",
            "60000/60000 [==============================] - 5s 87us/step - loss: 0.1384 - val_loss: 0.1175\n",
            "Epoch 2/5\n",
            "60000/60000 [==============================] - 5s 83us/step - loss: 0.1110 - val_loss: 0.1040\n",
            "Epoch 3/5\n",
            "60000/60000 [==============================] - 5s 81us/step - loss: 0.1021 - val_loss: 0.0983\n",
            "Epoch 4/5\n",
            "60000/60000 [==============================] - 5s 83us/step - loss: 0.0985 - val_loss: 0.0964\n",
            "Epoch 5/5\n",
            "60000/60000 [==============================] - 5s 83us/step - loss: 0.0970 - val_loss: 0.0950\n"
          ],
          "name": "stdout"
        },
        {
          "output_type": "execute_result",
          "data": {
            "text/plain": [
              "<keras.callbacks.History at 0x7f8014a615f8>"
            ]
          },
          "metadata": {
            "tags": []
          },
          "execution_count": 10
        }
      ]
    },
    {
      "cell_type": "code",
      "metadata": {
        "id": "6SLzrZ92Jed5",
        "colab_type": "code",
        "outputId": "4deb187e-9c2c-4e8c-97ec-7d9e0525ebe2",
        "colab": {
          "base_uri": "https://localhost:8080/",
          "height": 513
        }
      },
      "source": [
        "import matplotlib.pyplot as plt\n",
        "\n",
        "plt.imshow(x_train[40].reshape(28,28), cmap='Greys')\n",
        "plt.show()\n",
        "\n",
        "\n",
        "decoded_imgs = autoencoder.predict(x_test)\n",
        "plt.imshow(decoded_imgs[40].reshape(28,28), cmap='Greys')\n",
        "plt.show()\n",
        "\n",
        "\n"
      ],
      "execution_count": 0,
      "outputs": [
        {
          "output_type": "display_data",
          "data": {
            "image/png": "[encoded data removed]",
            "text/plain": [
              "<Figure size 432x288 with 1 Axes>"
            ]
          },
          "metadata": {
            "tags": []
          }
        },
        {
          "output_type": "display_data",
          "data": {
            "image/png": "[encoded data removed]",
            "text/plain": [
              "<Figure size 432x288 with 1 Axes>"
            ]
          },
          "metadata": {
            "tags": []
          }
        }
      ]
    }
  ]
}